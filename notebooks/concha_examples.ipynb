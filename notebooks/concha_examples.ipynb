{
 "cells": [
  {
   "cell_type": "markdown",
   "metadata": {},
   "source": [
    "## Concha\n",
    "\n",
    "Concha calculcates the optimal number of things to make/order of perishables.\n",
    "It uses machine learning, the day of the week, the weather, and the profit margin\n",
    "of each product to optimally balance filling customer demand and reducing waste.\n",
    "\n",
    "Open this notebook up in Google Colab to run it on Google's computers (it's free...and amazing).\n",
    "[![Open In Colab](https://colab.research.google.com/assets/colab-badge.svg)](https://colab.research.google.com/github/Ready4theCrush/concha/blob/master/notebooks/concha_examples.ipynb)"
   ]
  },
  {
   "cell_type": "code",
   "execution_count": null,
   "metadata": {},
   "outputs": [],
   "source": [
    "# Run this cell first to bring in the concha code\n",
    "!pip -q install -i https://test.pypi.org/simple/ concha\n",
    "from concha import Planner"
   ]
  },
  {
   "cell_type": "code",
   "execution_count": null,
   "metadata": {},
   "outputs": [],
   "source": [
    "# First, let's run a simulation for muffins.\n",
    "# Let's say they're made in batches of 4, the marginal cost is\n",
    "# $1.50 per muffin ($6 per batch), and they sell for $3.00 each.\n",
    "sim_planner = Planner(\n",
    "    planner_name=\"cafe_2\",\n",
    "    batch_size = 4,\n",
    "    batch_cost= 6.0,\n",
    "    unit_sale_price= 3.0\n",
    ")\n",
    "\n",
    "# We'll simulate 180 days of sales for 5 kinds of muffins\n",
    "sim_planner.simulate_history(\n",
    "    num_days=18,\n",
    "    stockout_prob=0.5,\n",
    "    demand_mean=100,\n",
    "    demand_std=10,\n",
    "    num_products = 5\n",
    ") "
   ]
  },
  {
   "cell_type": "code",
   "execution_count": null,
   "metadata": {},
   "outputs": [],
   "source": [
    "# We'll compare profits from two different ways to plan production.\n",
    "# The first is to use the average for weekdays and weekends from past\n",
    "# days to plan future production. The other uses machine learning to\n",
    "# maximize profit (revenue - waste). \n",
    "sim_planner.grid_search(\n",
    "    param_grid={\"model\": [\n",
    "        \"MeanWeekPart\",\n",
    "        \"ProfitMaximizer\"\n",
    "    ]},\n",
    "    true_demand='demand'\n",
    ")"
   ]
  },
  {
   "cell_type": "code",
   "execution_count": null,
   "metadata": {},
   "outputs": [],
   "source": [
    "# To predict how much to make of each product, we\n",
    "# just need to train the model for each product on the \n",
    "# transaction history first (which is simulated right now). \n",
    "\n",
    "sim_planner.train()\n",
    "production = sim_planner.predict()\n",
    "\n",
    "# The predictions are written to the forecast/forecast_production.csv file.\n",
    "# Here's the first five rows of predictions.\n",
    "production.head()"
   ]
  },
  {
   "cell_type": "code",
   "execution_count": null,
   "metadata": {},
   "outputs": [],
   "source": [
    "# Importing the transaction history\n",
    "\n",
    "# From the POS you need a csv dump of the transactions with\n",
    "# three columns (in this order): timestamp, item name, quantity.\n",
    "sim_planner.import_transactions()\n",
    "sim_planner.update_settings()"
   ]
  },
  {
   "cell_type": "code",
   "execution_count": null,
   "metadata": {},
   "outputs": [],
   "source": [
    "# Using the weather\n",
    "\n",
    "# The weather history and forecasts come from NOAA. You'll\n",
    "# need to get a NOAA api key from here: https://www.ncdc.noaa.gov/cdo-web/token\n",
    "# You can set it in the planner with:\n",
    "sim_planner.noaa_key(\"Yourkeyhere\")"
   ]
  },
  {
   "cell_type": "code",
   "execution_count": null,
   "metadata": {},
   "outputs": [],
   "source": [
    "# To find a station near your business location you can\n",
    "# pick one off the NOAA map. Go here: https://www.ncdc.noaa.gov/cdo-web/search\n",
    "#  - For \"Select a Dataset\" pick \"Daily Summaries\"\n",
    "#  - For \"Enter a Search Term\" put in your city/state name. Hit \"SEARCH\" and a map should come up.\n",
    "#  - On the left side of the map, above the search results and below the \"Search\" box,\n",
    "#    click on \"More Search Options\" and check the \"Air Temperature\" and \"Precipitation\"\n",
    "#    boxes. Then click \"SEARCH\" again. When you find the nearest station, click on it\n",
    "#    and copy the ID. It will look like \"GHCND:USC00448084\". You can set it with:\n",
    "sim_planner.noaa_station(\"GHCND:USC00448084\")"
   ]
  }
 ],
 "metadata": {
  "kernelspec": {
   "display_name": "concha",
   "language": "python",
   "name": "concha"
  },
  "language_info": {
   "codemirror_mode": {
    "name": "ipython",
    "version": 3
   },
   "file_extension": ".py",
   "mimetype": "text/x-python",
   "name": "python",
   "nbconvert_exporter": "python",
   "pygments_lexer": "ipython3",
   "version": "3.7.7"
  }
 },
 "nbformat": 4,
 "nbformat_minor": 4
}
