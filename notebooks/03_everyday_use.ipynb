{
 "cells": [
  {
   "cell_type": "markdown",
   "metadata": {},
   "source": [
    "## Save a Copy This Notebook to Google Drive\n",
    "\n",
    "(Ignore this step if you already did this step and are using the notebook stored in your Drive)\n",
    "\n",
    "Save your own copy of the notebook in your Google Drive with the \"Copy to Drive\" button near the top left of the notebook. A copy of this notebook named \"Copy of 03_everyday_use\" will be saved to a folder called \"Colab Notebooks\" on your Drive. Now as you update the code, the changes will be saved. Otherwise, they would reset every time you closed the notebook. \n",
    "\n",
    "You can confirm you are using the copy of the notebook in your Drive by looking for the \"Copy to Drive\" button. If it's gone, you're in the right notebook."
   ]
  },
  {
   "cell_type": "markdown",
   "metadata": {},
   "source": [
    "## Startup\n",
    "\n",
    "Colab's computers don't stay on all the time, so each time you open up this notebook you need to connect to Google Drive again and download all the Concha code. The next two cells get those working."
   ]
  },
  {
   "cell_type": "code",
   "execution_count": null,
   "metadata": {},
   "outputs": [],
   "source": [
    "# Connect to Google Drive\n",
    "from google.colab import drive\n",
    "drive.mount('/content/drive')\n",
    "# Once you copy the code into the text box below, type \"Enter\" to finish the connnection."
   ]
  },
  {
   "cell_type": "code",
   "execution_count": null,
   "metadata": {},
   "outputs": [],
   "source": [
    "# Bring in the Concha code\n",
    "!pip -q install concha\n",
    "from concha.planner import Planner\n",
    "from concha.importers import Square\n",
    "from concha.weather import NOAA"
   ]
  },
  {
   "cell_type": "markdown",
   "metadata": {},
   "source": [
    "## Make a new Planner\n",
    "A \"Planner\" is what makes predictions for each product at a particular location. Once making a planner you can assign a Square importer and a weather importer."
   ]
  },
  {
   "cell_type": "code",
   "execution_count": null,
   "metadata": {},
   "outputs": [],
   "source": [
    "# First let's see what locations are available.\n",
    "sq = Square()\n",
    "locs = sq.get_locations()\n",
    "locs"
   ]
  },
  {
   "cell_type": "code",
   "execution_count": null,
   "metadata": {},
   "outputs": [],
   "source": [
    "#@title New Planner Setup\n",
    "\n",
    "planner_name = \"cafe_1\" #@param {type:\"string\"}\n",
    "location_name = \"\" #@param {type:\"string\"}\n",
    "\n",
    "# Add the sales history importer\n",
    "planner = Planner(planner_name=planner_name)\n",
    "planner.set_importer(sq)\n",
    "planner.set_location(location_name)\n",
    "\n",
    "# Add the weather importer\n",
    "weather = NOAA()\n",
    "planner.set_weather_agent(weather)\n",
    "# This uses the lat/lng from the location above to find the nearest weather station.\n",
    "planner.set_weather_station()"
   ]
  },
  {
   "cell_type": "markdown",
   "metadata": {},
   "source": [
    "## Run a planner\n",
    "\n",
    "For day-to-day operations the steps are:\n",
    "\n",
    "1.) Pull in the most recent sales data from Square.\n",
    "\n",
    "2.) Train the machine learning models for each product.\n",
    "\n",
    "3.) Make predictions."
   ]
  },
  {
   "cell_type": "code",
   "execution_count": null,
   "metadata": {},
   "outputs": [],
   "source": [
    "# Fire up the planner\n",
    "planner_name = \"cafe_1\" #@param {type:\"string\"}\n",
    "planner = Planner(planner_name=planner_name)\n",
    "\n",
    "# Uncomment (delete the \"#\") these two lines below to limit which products to predict.\n",
    "# products_list = ['product-1', 'product-2'] #@param {type:\"raw\"}\n",
    "# planner.update_history(products=products_list)\n",
    "\n",
    "# Get the most recent history\n",
    "new_transactions = planner.update_history()\n",
    "new_transactions.head()\n",
    "\n",
    "# Skip to the Updating the Products if you haven't done that yet step."
   ]
  },
  {
   "cell_type": "code",
   "execution_count": null,
   "metadata": {},
   "outputs": [],
   "source": [
    "# Train the models\n",
    "planner.train()\n",
    "\n",
    "#Make a prediction for the best amount to make for each product\n",
    "predictions = planner.predict()\n",
    "predictions.head()"
   ]
  },
  {
   "cell_type": "markdown",
   "metadata": {},
   "source": [
    "The predictions are saved as a .csv in `/content/drive/My Drive/concha_planners/[planner_name]/forecast/` where you can open the file in Google Sheets."
   ]
  },
  {
   "cell_type": "markdown",
   "metadata": {},
   "source": [
    "## Updating the Products\n",
    "\n",
    "The optimal profit point for each product depends on the profit margin and production batch size. You can update those by name.\n",
    "\n",
    "Each product has a:\n",
    "\n",
    "   `batch_size`: The number of units made per batch.\n",
    "    \n",
    "   `batch_cost`: The marginal cost to produce a batch.\n",
    "    \n",
    "   `unit_sale_price`: The sale price of one unit."
   ]
  },
  {
   "cell_type": "code",
   "execution_count": null,
   "metadata": {},
   "outputs": [],
   "source": [
    "# See the products in the transaction history\n",
    "planner.product()"
   ]
  },
  {
   "cell_type": "code",
   "execution_count": null,
   "metadata": {},
   "outputs": [],
   "source": [
    "#@title See a Product's Information\n",
    "\n",
    "product_name = \"\" #@param {type:\"string\"}\n",
    "planner.product(product_name)"
   ]
  },
  {
   "cell_type": "code",
   "execution_count": null,
   "metadata": {},
   "outputs": [],
   "source": [
    "#@title Set a Product's Information\n",
    "\n",
    "product_name = \"\" #@param {type:\"string\"}\n",
    "batch_size = 1 #@param {type:\"integer\"}\n",
    "batch_cost = 2.0 #@param {type:\"number\"}\n",
    "unit_sale_price = 4.0 #@param {type:\"number\"}\n",
    "\n",
    "planner.product(product_name, batch_size=batch_size, batch_cost=batch_cost, unit_sale_price=unit_sale_price)\n",
    "planner.product(product_name)"
   ]
  },
  {
   "cell_type": "code",
   "execution_count": null,
   "metadata": {},
   "outputs": [],
   "source": [
    "#@title Limiting Which Products to Predict\n",
    "\n",
    "# You can control which products are imported to the transaction history.\n",
    "# Otherwise, every a prediction will be made for every product.\n",
    "\n",
    "products_list = ['product-1', 'product-2'] #@param {type:\"raw\"}\n",
    "planner.update_history(products=products_list)"
   ]
  }
 ],
 "metadata": {
  "kernelspec": {
   "display_name": "Python 3",
   "language": "python",
   "name": "python3"
  },
  "language_info": {
   "codemirror_mode": {
    "name": "ipython",
    "version": 3
   },
   "file_extension": ".py",
   "mimetype": "text/x-python",
   "name": "python",
   "nbconvert_exporter": "python",
   "pygments_lexer": "ipython3",
   "version": "3.7.7"
  }
 },
 "nbformat": 4,
 "nbformat_minor": 4
}
