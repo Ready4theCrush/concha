{
 "cells": [
  {
   "cell_type": "markdown",
   "metadata": {},
   "source": [
    "## Concha\n",
    "\n",
    "Concha calculcates the optimal number of things to make/order of perishables.\n",
    "It uses machine learning, the day of the week, the weather, and the profit margin\n",
    "of each product to optimally balance filling customer demand and reducing waste.\n",
    "\n",
    "Open this notebook up in Google Colab to run it on Google's computers:\n",
    "\n",
    "https://colab.research.google.com/github/Ready4theCrush/concha/blob/master/notebooks/01_run_a_simulation.ipynb"
   ]
  },
  {
   "cell_type": "code",
   "execution_count": null,
   "metadata": {},
   "outputs": [],
   "source": [
    "# Run this cell first to bring in the concha code\n",
    "!pip -q install concha\n",
    "from concha import Planner"
   ]
  },
  {
   "cell_type": "code",
   "execution_count": null,
   "metadata": {},
   "outputs": [],
   "source": [
    "# This is a simulation for muffins.\n",
    "# Let's say they're made in batches of 4, the marginal cost is\n",
    "# $1.50 per muffin ($6 per batch), and they sell for $3.00 each.\n",
    "sim_planner = Planner(\n",
    "    planner_name=\"cafe_2\",\n",
    "    batch_size = 4,\n",
    "    batch_cost= 6.0,\n",
    "    unit_sale_price= 3.0\n",
    ")\n",
    "\n",
    "# We'll simulate 180 days of sales for 5 kinds of muffins\n",
    "sim_planner.simulate_history(\n",
    "    num_days=180,\n",
    "    stockout_prob=0.5,\n",
    "    demand_mean=100,\n",
    "    demand_std=10,\n",
    "    num_products = 5,\n",
    "    write_csv=True\n",
    ") "
   ]
  },
  {
   "cell_type": "code",
   "execution_count": null,
   "metadata": {},
   "outputs": [],
   "source": [
    "# We'll compare profits from two different ways to plan production.\n",
    "# The first is to use the average for weekdays and weekends from past\n",
    "# days to plan future production. The other uses machine learning to\n",
    "# maximize profit (revenue - waste). \n",
    "sim_planner.grid_search(\n",
    "    param_grid={\"model\": [\n",
    "        \"MeanWeekPart\",\n",
    "        \"ProfitMaximizer\"\n",
    "    ]},\n",
    "    true_demand='demand'\n",
    ")\n",
    "# The difference in the profit_avg amount is the difference in daily profit between each\n",
    "# way of planning production. "
   ]
  },
  {
   "cell_type": "code",
   "execution_count": null,
   "metadata": {},
   "outputs": [],
   "source": [
    "# Let's plot plot the average profits for each test run and each product.\n",
    "sim_planner.plot_profits()"
   ]
  }
 ],
 "metadata": {
  "kernelspec": {
   "display_name": "concha",
   "language": "python",
   "name": "concha"
  },
  "language_info": {
   "codemirror_mode": {
    "name": "ipython",
    "version": 3
   },
   "file_extension": ".py",
   "mimetype": "text/x-python",
   "name": "python",
   "nbconvert_exporter": "python",
   "pygments_lexer": "ipython3",
   "version": "3.7.7"
  }
 },
 "nbformat": 4,
 "nbformat_minor": 4
}
