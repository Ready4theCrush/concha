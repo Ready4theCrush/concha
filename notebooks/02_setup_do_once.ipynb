{
 "cells": [
  {
   "cell_type": "markdown",
   "metadata": {},
   "source": [
    "## Google Drive\n",
    "\n",
    "These are things you only need to do once to connect all the data pipelines.\n",
    "\n",
    "(*Skip these steps if this is open in a colab notebook in your Google Drive.*)\n",
    "\n",
    "1.) open this notebook up in Google Colab:\n",
    "\n",
    "https://colab.research.google.com/github/Ready4theCrush/concha/blob/master/notebooks/02_setup_do_once.ipynb\n",
    "\n",
    "2.) Go to \"File\" -> \"Save a copy in Drive\"\n",
    "This makes your own copy in you drive in a folder called \"Colab Notebooks\".\n",
    "\n",
    "3.) Connect to Google Drive to save your work by running the next cell."
   ]
  },
  {
   "cell_type": "code",
   "execution_count": null,
   "metadata": {},
   "outputs": [],
   "source": [
    "from google.colab import drive\n",
    "drive.mount('/content/drive')"
   ]
  },
  {
   "cell_type": "code",
   "execution_count": null,
   "metadata": {},
   "outputs": [],
   "source": [
    "# Run this cell first to bring in the concha code\n",
    "!pip -q install concha\n",
    "from concha import Planner"
   ]
  },
  {
   "cell_type": "markdown",
   "metadata": {},
   "source": [
    "## Square\n",
    "\n",
    "Concha learns from how each product sold to determine how much to make in the future. That history is saved\n",
    "by Square.\n",
    "\n",
    "1.) Activate yourself as a developer here: https://developer.squareup.com/apps.\n",
    "\n",
    "2.) Create an \"app\", you can call it anything you want.\n",
    "\n",
    "3.) Click \"Open\" on the card shaped icon for the \"Application\" you just created.\n",
    "\n",
    "4.) On the menu on left side, click on \"OAuth\".\n",
    "\n",
    "5.) Set \"Production Redirect URL\" to \"http://www.google.com\"\n",
    "\n",
    "6.) Copy and paste the \"Production Application ID\" and the \"Production Application Secret\" (Click \"Show\"\n",
    "    first) into the next cell.\n",
    "\n",
    "The app you are creating is like a data \"agent\" to pull detailed records of exactly when each item was ordered each day. The \"Application ID\" and \"Application Secret\" are for the \"agent\". In the next cell \n",
    "you are granting the agent (limited) access to your own sales history. It requests access to read order histories (\"ORDERS READ\") and store locations (\"MERCHANT PROFILE READ\"). Setting the redirect URL to www.google.com\n",
    "is just a trick to get the code Square creates once you grant access."
   ]
  },
  {
   "cell_type": "code",
   "execution_count": null,
   "metadata": {},
   "outputs": [],
   "source": [
    "#@title Square Application Information\n",
    "\n",
    "production_application_id = \"\" #@param {type:\"string\"}\n",
    "production_application_secret = \"\" #@param {type:\"string\"}\n",
    "\n",
    "from concha.importers import Square\n",
    "sqr = Square()\n",
    "request_url = sqr.create_access_request_url(production_application_id, production_application_secret)\n",
    "print(\"Copy this url into a browswer to request data access for the agent you created: \\n\")\n",
    "print(request_url)"
   ]
  },
  {
   "cell_type": "markdown",
   "metadata": {},
   "source": [
    "After going to the url printed out above, you should be redirected to the google homepage, except that the authorization code is now listed in the url. Copy the\n",
    "new url, paste it below and run the cell to get the access token."
   ]
  },
  {
   "cell_type": "code",
   "execution_count": null,
   "metadata": {},
   "outputs": [],
   "source": [
    "#@title Square Application Information\n",
    "\n",
    "redirect_url = \"\" #@param {type:\"string\"}\n",
    "response = sqr.get_access_token(redirect_url)\n",
    "response.body"
   ]
  },
  {
   "cell_type": "markdown",
   "metadata": {},
   "source": [
    "If you see an \"access_token\" in the response, then it worked!\n",
    "\n",
    "Why go through all this trouble to create an access token instead of just using the \"Production Access Token provided on the developer website? Because the token we created is safer: it only allows access for reading orders and business locations. The one on the website gives access to everything.\n",
    "\n",
    "The new Square credentials are stored on your drive in:\n",
    "`/content/drive/My Drive/concha_planners/importers/square.json`"
   ]
  },
  {
   "cell_type": "code",
   "execution_count": null,
   "metadata": {},
   "outputs": [],
   "source": [
    "# Now let's see the list of vendor locations.\n",
    "locs = sqr.get_locations()\n",
    "locs"
   ]
  },
  {
   "cell_type": "markdown",
   "metadata": {},
   "source": [
    "## Weather\n",
    "\n",
    "To look up the past weather conditions on each day, you need an API key for NOAA.\n",
    "\n",
    "1.) Go here: https://www.ncdc.noaa.gov/cdo-web/token and put in your email.\n",
    "\n",
    "2.) Enter the API key they send you in the next cell."
   ]
  },
  {
   "cell_type": "code",
   "execution_count": null,
   "metadata": {},
   "outputs": [],
   "source": [
    "#@title NOAA (Weather) API Key\n",
    "\n",
    "noaa_api_key = \"\" #@param {type:\"string\"}\n",
    "\n",
    "from concha.weather import NOAA\n",
    "weather = NOAA()\n",
    "weather.set_api_key(noaa_api_key)"
   ]
  },
  {
   "cell_type": "markdown",
   "metadata": {},
   "source": [
    "## Check Everything\n",
    "\n",
    "Let's make a planner to make sure it all worked."
   ]
  },
  {
   "cell_type": "code",
   "execution_count": null,
   "metadata": {},
   "outputs": [],
   "source": [
    "from concha import Planner\n",
    "example = Planner(planner_name=\"example\")\n",
    "example.set_importer(sqr)\n",
    "first_location = list(sqr.settings['locations'].keys())[0]\n",
    "example.set_location(first_location)\n",
    "example.set_weather_agent(weather)\n",
    "example.set_weather_station()\n",
    "forecast = example.generate_daily_forecast_metadata()\n",
    "forecast"
   ]
  },
  {
   "cell_type": "markdown",
   "metadata": {},
   "source": [
    "If `forecast` is the weather for the next six days at the specified location\n",
    "then everything is working."
   ]
  }
 ],
 "metadata": {
  "kernelspec": {
   "display_name": "concha",
   "language": "python",
   "name": "concha"
  },
  "language_info": {
   "codemirror_mode": {
    "name": "ipython",
    "version": 3
   },
   "file_extension": ".py",
   "mimetype": "text/x-python",
   "name": "python",
   "nbconvert_exporter": "python",
   "pygments_lexer": "ipython3",
   "version": "3.7.7"
  }
 },
 "nbformat": 4,
 "nbformat_minor": 4
}
