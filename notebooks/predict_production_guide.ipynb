{
 "cells": [
  {
   "cell_type": "code",
   "execution_count": null,
   "metadata": {},
   "outputs": [],
   "source": [
    "# Import the things concha might use in the notebook\n",
    "import os\n",
    "import sys\n",
    "import math\n",
    "import logging\n",
    "\n",
    "import numpy as np\n",
    "import scipy as sp\n",
    "import pandas as pd\n",
    "\n",
    "%load_ext autoreload\n",
    "%autoreload 2\n",
    "\n",
    "import matplotlib as mpl\n",
    "import matplotlib.pyplot as plt\n",
    "%matplotlib inline\n",
    "%config InlineBackend.figure_format = 'retina'\n",
    "\n",
    "import seaborn as sns\n",
    "sns.set_context(\"poster\")\n",
    "sns.set(rc={'figure.figsize': (16, 9.)})\n",
    "sns.set_style(\"whitegrid\")\n",
    "\n",
    "from concha import Planner"
   ]
  },
  {
   "cell_type": "code",
   "execution_count": null,
   "metadata": {},
   "outputs": [],
   "source": [
    "# \"Get started\"\n",
    "from concha import Planner\n",
    "\n",
    "sim_planner = Planner(planner_name=\"sim_cafe\", batch_size=8, batch_cost=24.0, unit_sale_price=4.75)\n",
    "\n",
    "sim_planner.simulate_history(\n",
    "    num_days=180,\n",
    "    stockout_prob=0.5,\n",
    "    demand_mean=100,\n",
    "    demand_std=10,\n",
    "    num_products=5\n",
    ") \n",
    "\n",
    "sim_planner.train()\n",
    "sim_planner.predict()"
   ]
  },
  {
   "cell_type": "code",
   "execution_count": null,
   "metadata": {},
   "outputs": [],
   "source": [
    "# Set up a planner to learn from real data\n",
    "\n",
    "from concha import Planner\n",
    "\n",
    "planner = Planner(planner_name=\"this_planner\", model=\"ProfitMaximizer\")\n"
   ]
  },
  {
   "cell_type": "markdown",
   "metadata": {},
   "source": [
    "Add the transactions .csv files to `.concha/planners/this_planner/`"
   ]
  },
  {
   "cell_type": "code",
   "execution_count": null,
   "metadata": {},
   "outputs": [],
   "source": [
    "planner.import_transactions()\n",
    "planner.update_settings()"
   ]
  },
  {
   "cell_type": "markdown",
   "metadata": {},
   "source": [
    "Update the product costs, sale prices in  `.../this_planner/planner_settings.json` "
   ]
  },
  {
   "cell_type": "code",
   "execution_count": null,
   "metadata": {},
   "outputs": [],
   "source": [
    "planner.train()\n",
    "planner.predict()"
   ]
  },
  {
   "cell_type": "code",
   "execution_count": null,
   "metadata": {},
   "outputs": [],
   "source": [
    "planner.score_products()\n",
    "planner.product_summaries"
   ]
  },
  {
   "cell_type": "markdown",
   "metadata": {},
   "source": [
    "### Use the weather\n",
    "Concha can ask NOAA (National Oceanic and Atmospheric Administration) for the past weather to train the\n",
    "planner models, and then integrates the weather predictions to make production forecasts.\n",
    "1. Get a NOAA API key [here](https://www.ncdc.noaa.gov/cdo-web/token).\n",
    " You just give them your email and they send you a key.\n",
    "\n",
    "2. Find the nearest location tracking weather to the store/grocery/cafe.\n",
    "    - Go to [Climate Data Online Search](https://www.ncdc.noaa.gov/cdo-web/search).\n",
    "    - For \"Select a Dataset\" pick \"Daily Summaries\"\n",
    "    - For \"Enter a Search Term\" put in your city/state name. Hit \"SEARCH\" and a map should come up.\n",
    "    - On the left side of the map, above the search results and below the \"Search\" box,\n",
    "     click on \"More Search Options\" and check the \"Air Temperature\" and \"Precipitation\" boxes.\n",
    "     Then click \"SEARCH\" again.\n",
    "     - When you find the nearest station, click on it and copy the `ID`. It will look like \"GHCND:USC00448084\"\n",
    "     \n",
    "3. Open the settings file for the planner in `.../concha/planners/this_planner/planner_settings.json` and\n",
    "put in the NOAA API key and station ID.\n",
    "    ```json\n",
    "    \"weather\": {\n",
    "        \"noaa_api_key\": \"32pretendUEVWnoaa29Skey02\",\n",
    "        \"noaa_station_id\": \"GHCND:USC00448084\"\n",
    "    },\n",
    "    ```\n",
    "   Then save the file. Now every time you run `.train()` on your model, Concha will look up the \n",
    "   weather for every date when a sale was listed and learn how weather affects demand."
   ]
  },
  {
   "cell_type": "code",
   "execution_count": null,
   "metadata": {},
   "outputs": [],
   "source": [
    "# Analyzing Product Performance\n",
    "\n",
    "sim_planner = Planner(planner_name=\"sim_cafe\", batch_size=8, batch_cost=24.0, unit_sale_price=4.75)\n",
    "sim_planner.simulate_history(\n",
    "    num_days=180,\n",
    "    stockout_prob=0.5,\n",
    "    demand_mean=100,\n",
    "    demand_std=10,\n",
    "    num_products=5\n",
    ") \n",
    "\n",
    "sim_planner.score_products()\n",
    "sim_planner.product_summaries\n"
   ]
  },
  {
   "cell_type": "code",
   "execution_count": null,
   "metadata": {},
   "outputs": [],
   "source": [
    "# Compare model performance\n",
    "sim_planner.demand_quantile = 0.1\n",
    "sim_planner.grid_search(param_grid={\"model\":[\"QuantileRegressor\", \"Mean\", \"MeanWeekPart\", \"ProfitMaximizer\"]})"
   ]
  },
  {
   "cell_type": "code",
   "execution_count": null,
   "metadata": {},
   "outputs": [],
   "source": [
    "# View training history of deep learning models\n",
    "\n",
    "sim_planner.plot_validation_loss()"
   ]
  },
  {
   "cell_type": "code",
   "execution_count": null,
   "metadata": {},
   "outputs": [],
   "source": [
    "# Compare the average daily profits of each cross validation fold for all products.\n",
    "\n",
    "sim_planner.plot_profits()"
   ]
  },
  {
   "cell_type": "code",
   "execution_count": null,
   "metadata": {},
   "outputs": [],
   "source": [
    "# Compare the average daily waste of each cross validation fold for all products.\n",
    "\n",
    "sim_planner.plot_wastes()"
   ]
  }
 ],
 "metadata": {
  "kernelspec": {
   "display_name": "concha",
   "language": "python",
   "name": "concha"
  },
  "language_info": {
   "codemirror_mode": {
    "name": "ipython",
    "version": 3
   },
   "file_extension": ".py",
   "mimetype": "text/x-python",
   "name": "python",
   "nbconvert_exporter": "python",
   "pygments_lexer": "ipython3",
   "version": "3.7.7"
  },
  "pycharm": {
   "stem_cell": {
    "cell_type": "raw",
    "metadata": {
     "collapsed": false
    },
    "source": []
   }
  }
 },
 "nbformat": 4,
 "nbformat_minor": 4
}
