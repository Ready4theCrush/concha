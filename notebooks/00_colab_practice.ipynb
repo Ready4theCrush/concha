{
 "cells": [
  {
   "cell_type": "code",
   "execution_count": null,
   "metadata": {},
   "outputs": [],
   "source": [
    "# This box is a \"cell\".\n",
    "# To run the code in this cell, click on play button triangle on the upper left corner of this cell.\n",
    "\n",
    "print(\"Hello World!\")"
   ]
  },
  {
   "cell_type": "code",
   "execution_count": null,
   "metadata": {},
   "outputs": [],
   "source": [
    "#@title Type in a Name\n",
    "\n",
    "# Colab also has a way to let you enter things.\n",
    "# Write a name on the next line, and then the code will create a greeting.\n",
    "some_name = \"\" #@param {type:\"string\"}\n",
    "\n",
    "print(f\"Pleased to meet you, {some_name}.\")"
   ]
  }
 ],
 "metadata": {
  "kernelspec": {
   "display_name": "Python 3",
   "language": "python",
   "name": "python3"
  },
  "language_info": {
   "codemirror_mode": {
    "name": "ipython",
    "version": 3
   },
   "file_extension": ".py",
   "mimetype": "text/x-python",
   "name": "python",
   "nbconvert_exporter": "python",
   "pygments_lexer": "ipython3",
   "version": "3.7.7"
  }
 },
 "nbformat": 4,
 "nbformat_minor": 4
}
